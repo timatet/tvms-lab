{
 "cells": [
  {
   "cell_type": "markdown",
   "metadata": {},
   "source": [
    "ТВМС, Тетерин Т. А., КБ-41СО\n",
    "\n",
    "Лабораторная работа №3.\n",
    "\n",
    "Вариант 21 => mod 10 = 1"
   ]
  },
  {
   "cell_type": "markdown",
   "metadata": {},
   "source": [
    "Вычисление интеграла методом Монте-Карло\n",
    "$$J = \\int_{0}^{1} \\frac{1}{\\sqrt{x}}dx $$"
   ]
  },
  {
   "cell_type": "code",
   "execution_count": null,
   "metadata": {},
   "outputs": [],
   "source": [
    "import math\n",
    "import sympy as sy\n",
    "import random\n",
    "\n",
    "from prettytable import PrettyTable"
   ]
  },
  {
   "cell_type": "code",
   "execution_count": null,
   "metadata": {},
   "outputs": [],
   "source": [
    "N = 100\n",
    "accuracy = 3\n",
    "\n",
    "left_intrvl = 0\n",
    "right_intrvl = 1\n",
    "\n",
    "math_exp = round(math.exp(1), 10)\n",
    "def f(x): \n",
    "    return 1/(sy.sqrt(x))"
   ]
  },
  {
   "cell_type": "code",
   "execution_count": null,
   "metadata": {},
   "outputs": [],
   "source": [
    "x = sy.Symbol(\"x\")\n",
    "intgrl_value = round(sy.integrate(f(x), (x, left_intrvl, right_intrvl)), accuracy)\n",
    "print(\"Вычисление традиционным методом:\", intgrl_value)"
   ]
  },
  {
   "cell_type": "markdown",
   "metadata": {},
   "source": [
    "#### Первый метод.\n",
    "$$ J = \\int_{a}^{b} f(x)dx \\approx \\frac{b-a}{N} \\sum\\limits_{i=1}^n f(x_{i}) $$\n",
    "где $ x_{i} = a + r_{i} (b - a) $ и $ r_{i} $ - случайное число"
   ]
  },
  {
   "cell_type": "code",
   "execution_count": null,
   "metadata": {},
   "outputs": [],
   "source": [
    "# Генерация случайных N чисел \n",
    "\n",
    "randoms = [random.uniform(left_intrvl, right_intrvl) for i in  range(1, N + 1)]\n",
    "\n",
    "# Вычисление $ x_{i} $\n",
    "\n",
    "XVals = [left_intrvl + r_i * (right_intrvl - left_intrvl) for r_i in randoms]\n",
    "\n",
    "# Вычисление приближенного интеграла\n",
    "\n",
    "sum_fXVals = sum([f(XVal) for XVal in XVals])\n",
    "J_firstMethod = round(((right_intrvl - left_intrvl) / N) * sum_fXVals, accuracy)\n",
    "\n",
    "print(\"Вычисление способом усреднения подынтегральной функции:\", J_firstMethod)"
   ]
  },
  {
   "cell_type": "markdown",
   "metadata": {},
   "source": [
    "#### Второй метод\n",
    "\n",
    "Рассмотрим прямоугольник с основанием $ (b-a) $ и высотой $ c $ и некоторую двумерную СВ, обозначающую точку $ (\\xi, \\eta) $.\n",
    "Плотность равномерно распределенной на этом прямоугольнике СВ пропорциональна его площади \n",
    "$$ f(\\xi = x, \\eta = y) = \\frac{1}{(b-a)c} $$\n",
    "Поэтому если разыграно $ N $ точек, принадлежащих рассматриваемому прямоугольнику, из которых $ n_{1} $ точек оказались под $ f(x) $, то рассмотрев отношение площади , определяемой искомым интегралом, к площади прямоугольника можно найти оценку\n",
    "$$ J = \\int_{a}^{b} f(x)dx \\approx (b-a)c \\frac{n_{1}}{n} $$"
   ]
  },
  {
   "cell_type": "code",
   "execution_count": null,
   "metadata": {},
   "outputs": [],
   "source": [
    "# Найдем значение высоты прямоугольника\n",
    "\n",
    "c = 10 # ? На максимальном значении бесконечность\n",
    "\n",
    "print('Высота прямоугольника:', c)\n",
    "print('Основание прямоугольника:', right_intrvl - left_intrvl)\n",
    "\n",
    "# Теперь необходимо случайным образом сгенерировать N значений СВ\n",
    "\n",
    "randomsEta = [random.uniform(0, c) for i in  range(1, N + 1)]\n",
    "\n",
    "# Определим какие точки находятся под прямой\n",
    "inside_points = N * [0]\n",
    "for x, y, i in zip(randoms, randomsEta, range(0, N)):\n",
    "     if y < f(x):\n",
    "         inside_points[i] = 1\n",
    "n_1 = sum(inside_points)\n",
    "\n",
    "J_secondMethod = round((right_intrvl - left_intrvl) * c * (n_1 / N), accuracy)\n",
    "print(\"Вычисление способом с пониманием интеграла как площади:\", J_secondMethod)"
   ]
  },
  {
   "attachments": {},
   "cell_type": "markdown",
   "metadata": {},
   "source": [
    "#### Результаты"
   ]
  },
  {
   "cell_type": "code",
   "execution_count": null,
   "metadata": {},
   "outputs": [],
   "source": [
    "print(\"Вычисление традиционным методом:\", intgrl_value)\n",
    "print(\"Вычисление способом усреднения подынтегральной функции:\", J_firstMethod)\n",
    "print(\"Вычисление способом с пониманием интеграла как площади:\", J_secondMethod)"
   ]
  }
 ],
 "metadata": {
  "kernelspec": {
   "display_name": "Python 3.8.10 64-bit",
   "language": "python",
   "name": "python3"
  },
  "language_info": {
   "codemirror_mode": {
    "name": "ipython",
    "version": 3
   },
   "file_extension": ".py",
   "mimetype": "text/x-python",
   "name": "python",
   "nbconvert_exporter": "python",
   "pygments_lexer": "ipython3",
   "version": "3.8.10"
  },
  "orig_nbformat": 4,
  "vscode": {
   "interpreter": {
    "hash": "916dbcbb3f70747c44a77c7bcd40155683ae19c65e1c03b4aa3499c5328201f1"
   }
  }
 },
 "nbformat": 4,
 "nbformat_minor": 2
}

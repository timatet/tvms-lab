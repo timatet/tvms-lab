{
 "cells": [
  {
   "cell_type": "markdown",
   "metadata": {},
   "source": [
    "ТВМС, Тетерин Т. А., КБ-41СО\n",
    "\n",
    "Лабораторная работа №2.\n",
    "\n",
    "Вариант 21"
   ]
  },
  {
   "cell_type": "markdown",
   "metadata": {},
   "source": [
    "Задана плотность распределения $ f(x) $ непрерывной СВ $ X $, заданной на интервале. \n",
    "$$ f(x) = \\frac{e^x}{4} \\qquad (\\ln{2},\\ln{6})$$\n",
    "Найдем для заданной функции обратную. Пусть \n",
    "$$ \\frac{e^x}{4} = p_{i} $$\n",
    "тогда\n",
    "$$ x_{i} = \\ln{4 p_{i}} $$\n"
   ]
  },
  {
   "cell_type": "code",
   "execution_count": null,
   "metadata": {},
   "outputs": [],
   "source": [
    "# Заголовки\n",
    "import random\n",
    "from decimal import Decimal\n",
    "import math\n",
    "import sympy as sy\n",
    "\n",
    "from prettytable import PrettyTable\n",
    "\n",
    "def float_equals(a, b):\n",
    "    if float(a) > float(b): \n",
    "        return 1\n",
    "    elif float(a) < float(b):\n",
    "        return -1\n",
    "    else:\n",
    "        return 0"
   ]
  },
  {
   "cell_type": "code",
   "execution_count": null,
   "metadata": {},
   "outputs": [],
   "source": [
    "N = 120     # Количество значений СВ, которые необходимо сгенерировать\n",
    "q = 15      # Количество первых значений\n",
    "\n",
    "left_intrvl = math.log(2)\n",
    "right_intrvl = math.log(6)\n",
    "\n",
    "math_exp = round(math.exp(1), 10)\n",
    "def p(x): \n",
    "    return math_exp**x / 4\n",
    "\n",
    "def p_x(x):\n",
    "    return x * p(x)\n",
    "def p_xx(x):\n",
    "    return x**2 * p(x)\n",
    "\n",
    "def x(p):\n",
    "    return math.log(4 * p)"
   ]
  },
  {
   "cell_type": "code",
   "execution_count": null,
   "metadata": {},
   "outputs": [],
   "source": [
    "# Генерация случайных N чисел и первые q чисел\n",
    "\n",
    "randoms = [round(random.uniform(left_intrvl, right_intrvl), 4) for i in  range(1, N + 1)]\n",
    "\n",
    "q_headers = [i for i in range(1, q + 1)]\n",
    "q_randoms = randoms[:q]\n",
    "\n",
    "q_table = PrettyTable(q_headers)\n",
    "q_table.add_row(q_randoms)\n",
    "print(q_table)"
   ]
  },
  {
   "cell_type": "code",
   "execution_count": null,
   "metadata": {},
   "outputs": [],
   "source": [
    "# Подставим сгенерированные значния в обратную функцию, откуда получим значения СВ\n",
    "\n",
    "sv_randoms = [round(x(p_i), 4) for p_i in q_randoms]\n",
    "\n",
    "sv_table = PrettyTable([\"*\"] + q_headers)\n",
    "sv_table.add_row([\"X\"] + sv_randoms)\n",
    "sv_table.add_row([\"p\"] + q_randoms)\n",
    "print(sv_table)"
   ]
  },
  {
   "cell_type": "code",
   "execution_count": null,
   "metadata": {},
   "outputs": [],
   "source": [
    "# Найдем математическое ожидание и дисперсию для выборки на случайных числах\n",
    "\n",
    "sv_math_expect_rnd = 0\n",
    "for X_i in sv_randoms:\n",
    "    sv_math_expect_rnd += X_i\n",
    "sv_math_expect_rnd /= q\n",
    "print(\"Математическое ожидание СВ:\", round(sv_math_expect_rnd, 4))\n",
    "\n",
    "sv_disp_rnd = 0\n",
    "for X_i in sv_randoms:\n",
    "    sv_disp_rnd += (X_i - sv_math_expect_rnd) * (X_i - sv_math_expect_rnd)\n",
    "sv_disp_rnd /= q - 1\n",
    "print(\"Дисперсия СВ:\", round(sv_disp_rnd, 4))"
   ]
  },
  {
   "cell_type": "code",
   "execution_count": null,
   "metadata": {},
   "outputs": [],
   "source": [
    "# Найдем точные математическое ожиданеи и дисперсию для первончальной выборки. используя интеграл\n",
    "\n",
    "x = sy.Symbol(\"x\")\n",
    "sv_math_expect = round(sy.integrate(p_x(x), (x, left_intrvl, right_intrvl)), 10)\n",
    "print(\"Математическое ожидание:\", sv_math_expect)\n",
    "\n",
    "\n",
    "sv_disp = round(sy.integrate(p_xx(x), (x, left_intrvl, right_intrvl)), 10) - sv_math_expect**2\n",
    "print(\"Дисперсия СВ:\", sv_disp)\n"
   ]
  }
 ],
 "metadata": {
  "kernelspec": {
   "display_name": "Python 3.8.10 64-bit",
   "language": "python",
   "name": "python3"
  },
  "language_info": {
   "codemirror_mode": {
    "name": "ipython",
    "version": 3
   },
   "file_extension": ".py",
   "mimetype": "text/x-python",
   "name": "python",
   "nbconvert_exporter": "python",
   "pygments_lexer": "ipython3",
   "version": "3.8.10"
  },
  "orig_nbformat": 4,
  "vscode": {
   "interpreter": {
    "hash": "916dbcbb3f70747c44a77c7bcd40155683ae19c65e1c03b4aa3499c5328201f1"
   }
  }
 },
 "nbformat": 4,
 "nbformat_minor": 2
}

{
 "cells": [
  {
   "cell_type": "markdown",
   "metadata": {},
   "source": [
    "Лабораторная работа №1.\n",
    "\n",
    "ТВМС, Тетерин Т. А., КБ-41СО"
   ]
  },
  {
   "cell_type": "code",
   "execution_count": 25,
   "metadata": {},
   "outputs": [],
   "source": [
    "# Заголовки\n",
    "import random\n",
    "import math\n",
    "\n",
    "from prettytable import PrettyTable"
   ]
  },
  {
   "cell_type": "code",
   "execution_count": 26,
   "metadata": {},
   "outputs": [
    {
     "name": "stdout",
     "output_type": "stream",
     "text": [
      "+---+-----+-----+-----+\n",
      "| X |  1  |  -7 |  2  |\n",
      "+---+-----+-----+-----+\n",
      "| p | 0.1 | 0.7 | 0.2 |\n",
      "+---+-----+-----+-----+\n"
     ]
    }
   ],
   "source": [
    "N = 110     # Количество значений СВ, которые необходимо сгенерировать\n",
    "q = 18      # Количество первых значений\n",
    "\n",
    "# СВ задана законом распределения:\n",
    "X1 = 1\n",
    "P1 = 0.1\n",
    "X2 = -7\n",
    "P2 = 0.7\n",
    "X3 = 2\n",
    "P3 = 0.2\n",
    "\n",
    "sv_X = [\"X\", X1, X2, X3]\n",
    "sv_p = [\"p\", P1, P2, P3]\n",
    "\n",
    "sv_table = PrettyTable(sv_X)\n",
    "sv_table.add_row(sv_p)\n",
    "print(sv_table)\n",
    "\n",
    "# Необходимо разбить данный интервал (0, 1) на частичные интервалы:\n",
    "#    (0. 0.1); (0.1, 0.8); (0.8, 1)\n",
    "\n",
    "Interval1 = P1\n",
    "Interval2 = P1 + P2\n",
    "Interval3 = P1 + P2 + P3\n",
    "\n",
    "# TODO: Необходимо автоматизирвоать этот блок, чтобы он не ограничивался индексом 3"
   ]
  },
  {
   "cell_type": "code",
   "execution_count": 27,
   "metadata": {},
   "outputs": [
    {
     "name": "stdout",
     "output_type": "stream",
     "text": [
      "+--------+--------+--------+--------+--------+--------+--------+--------+--------+--------+--------+--------+--------+--------+--------+--------+--------+--------+\n",
      "|   1    |   2    |   3    |   4    |   5    |   6    |   7    |   8    |   9    |   10   |   11   |   12   |   13   |   14   |   15   |   16   |   17   |   18   |\n",
      "+--------+--------+--------+--------+--------+--------+--------+--------+--------+--------+--------+--------+--------+--------+--------+--------+--------+--------+\n",
      "| 0.3459 | 0.0502 | 0.3504 | 0.4374 | 0.6075 | 0.5025 | 0.1672 | 0.9552 | 0.5908 | 0.4969 | 0.1701 | 0.2679 | 0.5271 | 0.1811 | 0.6883 | 0.1815 | 0.1005 | 0.8228 |\n",
      "+--------+--------+--------+--------+--------+--------+--------+--------+--------+--------+--------+--------+--------+--------+--------+--------+--------+--------+\n"
     ]
    }
   ],
   "source": [
    "# Генерация случайных N чисел и первые q чисел\n",
    "\n",
    "randoms = [round(random.uniform(0, 1), 4) for i in  range(1, N + 1)]\n",
    "\n",
    "q_headers = [i for i in range(1, q + 1)]\n",
    "q_randoms = randoms[:q]\n",
    "\n",
    "q_table = PrettyTable(q_headers)\n",
    "q_table.add_row(q_randoms)\n",
    "print(q_table)"
   ]
  },
  {
   "cell_type": "code",
   "execution_count": null,
   "metadata": {},
   "outputs": [],
   "source": [
    "# Теперь каждое из этих чисел сопоставим со своим интервалом и получим соответсвующие значения СВ\n",
    "\n"
   ]
  }
 ],
 "metadata": {
  "kernelspec": {
   "display_name": "Python 3.8.10 64-bit",
   "language": "python",
   "name": "python3"
  },
  "language_info": {
   "codemirror_mode": {
    "name": "ipython",
    "version": 3
   },
   "file_extension": ".py",
   "mimetype": "text/x-python",
   "name": "python",
   "nbconvert_exporter": "python",
   "pygments_lexer": "ipython3",
   "version": "3.8.10"
  },
  "orig_nbformat": 4,
  "vscode": {
   "interpreter": {
    "hash": "916dbcbb3f70747c44a77c7bcd40155683ae19c65e1c03b4aa3499c5328201f1"
   }
  }
 },
 "nbformat": 4,
 "nbformat_minor": 2
}

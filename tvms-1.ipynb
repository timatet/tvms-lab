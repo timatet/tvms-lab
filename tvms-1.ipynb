{
 "cells": [
  {
   "cell_type": "markdown",
   "metadata": {},
   "source": [
    "Лабораторная работа №1.\n",
    "Вариант 21\n",
    "\n",
    "ТВМС, Тетерин Т. А., КБ-41СО"
   ]
  },
  {
   "cell_type": "code",
   "execution_count": 42,
   "metadata": {},
   "outputs": [],
   "source": [
    "# Заголовки\n",
    "import random\n",
    "from decimal import Decimal\n",
    "import math\n",
    "\n",
    "from prettytable import PrettyTable\n",
    "\n",
    "def float_equals(a, b):\n",
    "    if float(a) > float(b): \n",
    "        return 1\n",
    "    elif float(a) < float(b):\n",
    "        return -1\n",
    "    else:\n",
    "        return 0"
   ]
  },
  {
   "cell_type": "code",
   "execution_count": 43,
   "metadata": {},
   "outputs": [
    {
     "name": "stdout",
     "output_type": "stream",
     "text": [
      "+---+-----+-----+-----+\n",
      "| X |  1  |  -7 |  2  |\n",
      "+---+-----+-----+-----+\n",
      "| p | 0.1 | 0.7 | 0.2 |\n",
      "+---+-----+-----+-----+\n",
      "[0, 0.1, 0.8, 1.0]\n"
     ]
    }
   ],
   "source": [
    "N = 110     # Количество значений СВ, которые необходимо сгенерировать\n",
    "q = 18      # Количество первых значений\n",
    "\n",
    "# СВ задана законом распределения:\n",
    "sv_cnt = 3\n",
    "\n",
    "sv_X = [\"X\", 1, -7, 2]\n",
    "sv_p = [\"p\", 0.1, 0.7, 0.2]\n",
    "\n",
    "sv_table = PrettyTable(sv_X)\n",
    "sv_table.add_row(sv_p)\n",
    "print(sv_table)\n",
    "\n",
    "# Необходимо разбить данный интервал (0, 1) на частичные интервалы:\n",
    "#    (0. 0.1); (0.1, 0.8); (0.8, 1)\n",
    "\n",
    "sv_its = [round(sum(sv_p[1:i+1]), 1) for i in range(sv_cnt + 1)]\n",
    "print(sv_its)"
   ]
  },
  {
   "cell_type": "code",
   "execution_count": 44,
   "metadata": {},
   "outputs": [
    {
     "name": "stdout",
     "output_type": "stream",
     "text": [
      "+--------+--------+--------+--------+--------+--------+--------+--------+--------+--------+--------+--------+--------+--------+-------+--------+--------+--------+\n",
      "|   1    |   2    |   3    |   4    |   5    |   6    |   7    |   8    |   9    |   10   |   11   |   12   |   13   |   14   |   15  |   16   |   17   |   18   |\n",
      "+--------+--------+--------+--------+--------+--------+--------+--------+--------+--------+--------+--------+--------+--------+-------+--------+--------+--------+\n",
      "| 0.1425 | 0.6859 | 0.5036 | 0.4492 | 0.8124 | 0.2124 | 0.5911 | 0.9987 | 0.3391 | 0.3206 | 0.7085 | 0.3856 | 0.9458 | 0.9214 | 0.579 | 0.6345 | 0.5855 | 0.4763 |\n",
      "+--------+--------+--------+--------+--------+--------+--------+--------+--------+--------+--------+--------+--------+--------+-------+--------+--------+--------+\n"
     ]
    }
   ],
   "source": [
    "# Генерация случайных N чисел и первые q чисел\n",
    "\n",
    "randoms = [round(random.uniform(0, 1), 4) for i in  range(1, N + 1)]\n",
    "\n",
    "q_headers = [i for i in range(1, q + 1)]\n",
    "q_randoms = randoms[:q]\n",
    "\n",
    "q_table = PrettyTable(q_headers)\n",
    "q_table.add_row(q_randoms)\n",
    "print(q_table)"
   ]
  },
  {
   "cell_type": "code",
   "execution_count": 45,
   "metadata": {},
   "outputs": [
    {
     "name": "stdout",
     "output_type": "stream",
     "text": [
      "+---+--------+--------+--------+--------+--------+--------+--------+--------+--------+--------+--------+--------+--------+--------+-------+--------+--------+--------+\n",
      "| * |   1    |   2    |   3    |   4    |   5    |   6    |   7    |   8    |   9    |   10   |   11   |   12   |   13   |   14   |   15  |   16   |   17   |   18   |\n",
      "+---+--------+--------+--------+--------+--------+--------+--------+--------+--------+--------+--------+--------+--------+--------+-------+--------+--------+--------+\n",
      "| X |   -7   |   -7   |   -7   |   -7   |   2    |   -7   |   -7   |   2    |   -7   |   -7   |   -7   |   -7   |   2    |   2    |   -7  |   -7   |   -7   |   -7   |\n",
      "| p | 0.1425 | 0.6859 | 0.5036 | 0.4492 | 0.8124 | 0.2124 | 0.5911 | 0.9987 | 0.3391 | 0.3206 | 0.7085 | 0.3856 | 0.9458 | 0.9214 | 0.579 | 0.6345 | 0.5855 | 0.4763 |\n",
      "+---+--------+--------+--------+--------+--------+--------+--------+--------+--------+--------+--------+--------+--------+--------+-------+--------+--------+--------+\n"
     ]
    }
   ],
   "source": [
    "# Каждое из этих чисел сопоставим со своим интервалом и получим соответсвующие значения СВ\n",
    "\n",
    "sv_randoms = [None] * q\n",
    "\n",
    "idx = 1\n",
    "for p_f, p_e in zip(sv_its, sv_its[1:]):\n",
    "    for i, p_q in enumerate(q_randoms):\n",
    "        if p_f <= p_q <= p_e:\n",
    "            sv_randoms[i] = sv_X[idx]\n",
    "    idx += 1\n",
    "\n",
    "q_headers_hr = [\"*\"] + q_headers\n",
    "q_randoms_hr = [\"p\"] + q_randoms\n",
    "sv_randoms_hr = [\"X\"] + sv_randoms\n",
    "sv_table = PrettyTable(q_headers_hr)\n",
    "sv_table.add_row(sv_randoms_hr)\n",
    "sv_table.add_row(q_randoms_hr)\n",
    "print (sv_table)"
   ]
  },
  {
   "cell_type": "code",
   "execution_count": 46,
   "metadata": {},
   "outputs": [
    {
     "name": "stdout",
     "output_type": "stream",
     "text": [
      "Математическое ожидание СВ: -4.4\n",
      "Дисперсия СВ: 15.84\n"
     ]
    }
   ],
   "source": [
    "# Найдем точные математическое ожидание и дисперсию для первоначальной выборки\n",
    "\n",
    "sv_math_expect = 0\n",
    "for X_i, p_i in zip(sv_X[1:], sv_p[1:]):\n",
    "    sv_math_expect += X_i * p_i\n",
    "print(\"Математическое ожидание СВ:\", round(sv_math_expect, 4))\n",
    "\n",
    "sv_disp = 0\n",
    "for X_i, p_i in zip(sv_X[1:], sv_p[1:]):\n",
    "    sv_disp += X_i * X_i * p_i\n",
    "sv_disp -= sv_math_expect * sv_math_expect\n",
    "print(\"Дисперсия СВ:\", round(sv_disp, 4))"
   ]
  },
  {
   "cell_type": "code",
   "execution_count": 47,
   "metadata": {},
   "outputs": [
    {
     "name": "stdout",
     "output_type": "stream",
     "text": [
      "Математическое ожидание СВ: -5.0\n",
      "Дисперсия СВ: 14.8235\n"
     ]
    }
   ],
   "source": [
    "# Найдем математическое ожидание и дисперсию для СВ при генерации случайных чисел\n",
    "\n",
    "sv_math_expect_rnd = 0\n",
    "for X_i in sv_randoms:\n",
    "    sv_math_expect_rnd += X_i\n",
    "sv_math_expect_rnd /= q\n",
    "print(\"Математическое ожидание СВ:\", round(sv_math_expect_rnd, 4))\n",
    "\n",
    "sv_disp_rnd = 0\n",
    "for X_i in sv_randoms:\n",
    "    sv_disp_rnd += (X_i - sv_math_expect_rnd) * (X_i - sv_math_expect_rnd)\n",
    "sv_disp_rnd /= q - 1\n",
    "print(\"Дисперсия СВ:\", round(sv_disp_rnd, 4))"
   ]
  }
 ],
 "metadata": {
  "kernelspec": {
   "display_name": "Python 3.8.10 64-bit",
   "language": "python",
   "name": "python3"
  },
  "language_info": {
   "codemirror_mode": {
    "name": "ipython",
    "version": 3
   },
   "file_extension": ".py",
   "mimetype": "text/x-python",
   "name": "python",
   "nbconvert_exporter": "python",
   "pygments_lexer": "ipython3",
   "version": "3.8.10"
  },
  "orig_nbformat": 4,
  "vscode": {
   "interpreter": {
    "hash": "916dbcbb3f70747c44a77c7bcd40155683ae19c65e1c03b4aa3499c5328201f1"
   }
  }
 },
 "nbformat": 4,
 "nbformat_minor": 2
}

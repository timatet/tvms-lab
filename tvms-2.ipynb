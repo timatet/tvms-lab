{
 "cells": [
  {
   "cell_type": "markdown",
   "metadata": {},
   "source": [
    "ТВМС, Тетерин Т. А., КБ-41СО\n",
    "\n",
    "Лабораторная работа №2.\n",
    "\n",
    "Вариант 21"
   ]
  },
  {
   "cell_type": "markdown",
   "metadata": {},
   "source": [
    "Задана плотность распределения $ f(x) $ непрерывной СВ $ X $, заданной на интервале. $$ f(x) = \\frac{e^x}{4} \\qquad (\\ln{2},\\ln{6})$$\n"
   ]
  },
  {
   "cell_type": "code",
   "execution_count": null,
   "metadata": {},
   "outputs": [],
   "source": [
    "# Заголовки\n",
    "import random\n",
    "from decimal import Decimal\n",
    "import math\n",
    "\n",
    "from prettytable import PrettyTable\n",
    "\n",
    "def float_equals(a, b):\n",
    "    if float(a) > float(b): \n",
    "        return 1\n",
    "    elif float(a) < float(b):\n",
    "        return -1\n",
    "    else:\n",
    "        return 0"
   ]
  },
  {
   "cell_type": "code",
   "execution_count": null,
   "metadata": {},
   "outputs": [],
   "source": [
    "N = 120     # Количество значений СВ, которые необходимо сгенерировать\n",
    "q = 15      # Количество первых значений"
   ]
  },
  {
   "cell_type": "code",
   "execution_count": null,
   "metadata": {},
   "outputs": [],
   "source": [
    "# Генерация случайных N чисел и первые q чисел\n",
    "\n",
    "randoms = [round(random.uniform(0, 1), 4) for i in  range(1, N + 1)]\n",
    "\n",
    "q_headers = [i for i in range(1, q + 1)]\n",
    "q_randoms = randoms[:q]\n",
    "\n",
    "q_table = PrettyTable(q_headers)\n",
    "q_table.add_row(q_randoms)\n",
    "print(q_table)"
   ]
  },
  {
   "cell_type": "code",
   "execution_count": null,
   "metadata": {},
   "outputs": [],
   "source": [
    "# "
   ]
  }
 ],
 "metadata": {
  "kernelspec": {
   "display_name": "Python 3.8.10 64-bit",
   "language": "python",
   "name": "python3"
  },
  "language_info": {
   "name": "python",
   "version": "3.8.10"
  },
  "orig_nbformat": 4,
  "vscode": {
   "interpreter": {
    "hash": "916dbcbb3f70747c44a77c7bcd40155683ae19c65e1c03b4aa3499c5328201f1"
   }
  }
 },
 "nbformat": 4,
 "nbformat_minor": 2
}
